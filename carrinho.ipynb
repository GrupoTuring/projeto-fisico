{
 "metadata": {
  "language_info": {
   "codemirror_mode": {
    "name": "ipython",
    "version": 3
   },
   "file_extension": ".py",
   "mimetype": "text/x-python",
   "name": "python",
   "nbconvert_exporter": "python",
   "pygments_lexer": "ipython3",
   "version": "3.7.7-final"
  },
  "orig_nbformat": 2,
  "kernelspec": {
   "name": "Python 3.7.7 64-bit ('base': conda)",
   "display_name": "Python 3.7.7 64-bit ('base': conda)",
   "metadata": {
    "interpreter": {
     "hash": "af86c3fa503a1d9f70e506efac6fb9ada1ebab6134f7d7a90aea1a75c75c1a4b"
    }
   }
  }
 },
 "nbformat": 4,
 "nbformat_minor": 2,
 "cells": [
  {
   "cell_type": "code",
   "execution_count": 1,
   "metadata": {
    "tags": []
   },
   "outputs": [
    {
     "output_type": "stream",
     "name": "stderr",
     "text": [
      "WARNING: The communication API versions between Unity and python differ at the minor version level. Python API: 1.1.0, Unity API: 1.0.\nThis means that some features may not work unless you upgrade the package with the lower version.Please find the versions that work best together from our release page.\nhttps://github.com/Unity-Technologies/ml-agents/releases\n"
     ]
    }
   ],
   "source": [
    "import numpy as np\n",
    "from mlagents_envs.environment import UnityEnvironment\n",
    "env = UnityEnvironment(seed=1, side_channels=[], base_port=5004)\n",
    "\n",
    "env.reset()\n",
    "behavior_names = env.behavior_specs.keys()\n",
    "bn = list(behavior_names)[0]"
   ]
  },
  {
   "cell_type": "code",
   "execution_count": 2,
   "metadata": {},
   "outputs": [
    {
     "output_type": "stream",
     "name": "stdout",
     "text": [
      "[t=0] agent_id=2, obs=[array([  0.,  -2.,   2., -30.], dtype=float32)], r=0.0\n[t=0] TERMINAL agent_id=0, obs=[array([  0.       ,  -2.0000002,   1.9960766, -30.       ], dtype=float32)], r=0.0, interrupted=False\n[t=0] TERMINAL agent_id=1, obs=[array([  0.,  -2.,   2., -30.], dtype=float32)], r=0.0, interrupted=False\n"
     ]
    }
   ],
   "source": [
    "env.reset()\n",
    "t = 0\n",
    "while True:\n",
    "    ds, ts = env.get_steps(bn)\n",
    "    for agent_id in ds.agent_id:\n",
    "        agent = ds[agent_id]\n",
    "        print(f'[t={t}] agent_id={agent_id}, obs={agent.obs}, r={agent.reward}')\n",
    "    if len(ds) > 0:\n",
    "        env.set_actions(bn, np.array([[1, 0, 1]], dtype=np.float32))\n",
    "    for agent_id in ts.agent_id:\n",
    "        agent = ts[agent_id]\n",
    "        print(f'[t={t}] TERMINAL agent_id={agent_id}, obs={agent.obs}, r={agent.reward}, interrupted={agent.interrupted}') \n",
    "    if len(ts) > 0:\n",
    "        break\n",
    "        \n",
    "    env.step()\n",
    "    t += 1"
   ]
  }
 ]
}